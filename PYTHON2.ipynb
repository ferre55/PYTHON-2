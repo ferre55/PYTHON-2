{
 "cells": [
  {
   "cell_type": "markdown",
   "id": "72506ff0-9be0-47c4-a5d4-e763b5f8e2b4",
   "metadata": {},
   "source": [
    "## __PYTHON 2__"
   ]
  },
  {
   "cell_type": "markdown",
   "id": "f7aa6a94-e9fc-434b-aeca-ea0ae18ec7b0",
   "metadata": {},
   "source": [
    "Having an array of integers find the result of the sum of the elements of the array."
   ]
  },
  {
   "cell_type": "markdown",
   "id": "0c2ffd56-7b4b-405a-a5f1-e6e4c6e01ffe",
   "metadata": {},
   "source": [
    "__Rules__:\n",
    "* ar[i] <= 1000 (The array must be less than a thousand data).\n",
    "* You have to create the function that does the sum"
   ]
  },
  {
   "cell_type": "markdown",
   "id": "0283eeb1-ef45-4e68-906f-3d051226e034",
   "metadata": {},
   "source": [
    "Flowchart <img src=\"python2.png\" width=200 height=200 />\n"
   ]
  },
  {
   "cell_type": "code",
   "execution_count": 72,
   "id": "f63941a0-3462-4e3c-ba9c-9d9ec832834b",
   "metadata": {},
   "outputs": [],
   "source": [
    "#Define function\n",
    "\n",
    "def SumArray(array):\n",
    "    sum= 0\n",
    "\n",
    "    for i in array:\n",
    "        sum += i\n",
    "    return sum\n",
    "\n",
    "\n",
    "        "
   ]
  },
  {
   "cell_type": "code",
   "execution_count": 74,
   "id": "102d36f4-630f-40d6-a301-118258266004",
   "metadata": {},
   "outputs": [
    {
     "data": {
      "text/plain": [
       "6"
      ]
     },
     "execution_count": 74,
     "metadata": {},
     "output_type": "execute_result"
    }
   ],
   "source": [
    "list= [1,2,3]\n",
    "\n",
    "SumArray(list)"
   ]
  },
  {
   "cell_type": "code",
   "execution_count": 75,
   "id": "057f905d-e3f4-4350-8179-976535a47881",
   "metadata": {},
   "outputs": [
    {
     "data": {
      "text/plain": [
       "30"
      ]
     },
     "execution_count": 75,
     "metadata": {},
     "output_type": "execute_result"
    }
   ],
   "source": [
    "list= [10,10,10]\n",
    "\n",
    "SumArray(list)"
   ]
  },
  {
   "cell_type": "code",
   "execution_count": 77,
   "id": "eed73401-2ddc-46c5-934f-b89282511fc4",
   "metadata": {},
   "outputs": [
    {
     "data": {
      "text/plain": [
       "12"
      ]
     },
     "execution_count": 77,
     "metadata": {},
     "output_type": "execute_result"
    }
   ],
   "source": [
    "nums= [4,4,4]\n",
    "\n",
    "SumArray(nums)"
   ]
  },
  {
   "cell_type": "code",
   "execution_count": null,
   "id": "af50af00-a8a5-4398-94c1-39e152f5da93",
   "metadata": {},
   "outputs": [],
   "source": []
  }
 ],
 "metadata": {
  "kernelspec": {
   "display_name": "Python 3 (ipykernel)",
   "language": "python",
   "name": "python3"
  },
  "language_info": {
   "codemirror_mode": {
    "name": "ipython",
    "version": 3
   },
   "file_extension": ".py",
   "mimetype": "text/x-python",
   "name": "python",
   "nbconvert_exporter": "python",
   "pygments_lexer": "ipython3",
   "version": "3.9.7"
  }
 },
 "nbformat": 4,
 "nbformat_minor": 5
}
